{
 "cells": [
  {
   "cell_type": "code",
   "execution_count": 1,
   "id": "fb52f941-d039-4520-a3b9-094f102cf564",
   "metadata": {},
   "outputs": [
    {
     "name": "stdin",
     "output_type": "stream",
     "text": [
      "Enter the first number:  1\n",
      "Enter the second number:  2\n",
      "Enter the third number:  3\n"
     ]
    },
    {
     "name": "stdout",
     "output_type": "stream",
     "text": [
      "The minimum number is: 1.0\n"
     ]
    }
   ],
   "source": [
    "num1 = float(input(\"Enter the first number: \"))\n",
    "num2 = float(input(\"Enter the second number: \"))\n",
    "num3 = float(input(\"Enter the third number: \"))\n",
    "\n",
    "if num1 <= num2 and num1 <= num3:\n",
    "    minimum = num1\n",
    "elif num2 <= num1 and num2 <= num3:\n",
    "    minimum = num2\n",
    "else:\n",
    "    minimum = num3\n",
    "\n",
    "print(\"The minimum number is:\", minimum)\n"
   ]
  },
  {
   "cell_type": "code",
   "execution_count": 2,
   "id": "268bbf07-7d8f-4678-ab35-a6df9937c72d",
   "metadata": {},
   "outputs": [
    {
     "name": "stdin",
     "output_type": "stream",
     "text": [
      "Enter the number:  12\n"
     ]
    },
    {
     "name": "stdout",
     "output_type": "stream",
     "text": [
      "FAIL\n"
     ]
    }
   ],
   "source": [
    "number = float(input(\"Enter the number: \"))\n",
    "\n",
    "if number > 95:\n",
    "    print(\"Brilliant\")\n",
    "elif number > 85:\n",
    "    print(\"Excellent\")\n",
    "elif number > 75:\n",
    "    print(\"Good\")\n",
    "elif number > 60:\n",
    "    print(\"Average\")\n",
    "else:\n",
    "    print(\"FAIL\")"
   ]
  },
  {
   "cell_type": "code",
   "execution_count": 3,
   "id": "0ad42bfe-e62c-4d34-bf8c-a1dc2f5e9957",
   "metadata": {},
   "outputs": [
    {
     "name": "stdin",
     "output_type": "stream",
     "text": [
      "Enter the number of units:  12\n"
     ]
    },
    {
     "name": "stdout",
     "output_type": "stream",
     "text": [
      "Total amount: 540 rs\n"
     ]
    }
   ],
   "source": [
    "units = int(input(\"Enter the number of units: \"))\n",
    "rate1 = 50  # for the first 10 units\n",
    "rate2 = 20  # for the next 20 units\n",
    "rate3 = 10  # for the next 10 units\n",
    "rate4 = 5   # for any units beyond the first 40\n",
    "if units <= 10:\n",
    "    total_amount = units * rate1\n",
    "elif units <= 30:\n",
    "    total_amount = 10 * rate1 + (units - 10) * rate2\n",
    "elif units <= 40:\n",
    "    total_amount = 10 * rate1 + 20 * rate2 + (units - 30) * rate3\n",
    "else:\n",
    "    total_amount = 10 * rate1 + 20 * rate2 + 10 * rate3 + (units - 40) * rate4\n",
    "\n",
    "\n",
    "print(\"Total amount:\", total_amount, \"rs\")\n"
   ]
  },
  {
   "cell_type": "code",
   "execution_count": 4,
   "id": "d1f1aa4e-8468-4df9-b8ca-6043cf26376c",
   "metadata": {},
   "outputs": [
    {
     "name": "stdin",
     "output_type": "stream",
     "text": [
      "Enter a number:  56\n"
     ]
    },
    {
     "name": "stdout",
     "output_type": "stream",
     "text": [
      "The number is not divisible by 6.\n"
     ]
    }
   ],
   "source": [
    "number = int(input(\"Enter a number: \"))\n",
    "\n",
    "if number % 2 == 0 and number % 3 == 0:\n",
    "    print(\"The number is divisible by 6.\")\n",
    "else:\n",
    "    print(\"The number is not divisible by 6.\")\n"
   ]
  },
  {
   "cell_type": "code",
   "execution_count": null,
   "id": "d9b77200-39ce-488a-9f51-1f385b12bc5e",
   "metadata": {},
   "outputs": [],
   "source": []
  }
 ],
 "metadata": {
  "kernelspec": {
   "display_name": "Python 3 (ipykernel)",
   "language": "python",
   "name": "python3"
  },
  "language_info": {
   "codemirror_mode": {
    "name": "ipython",
    "version": 3
   },
   "file_extension": ".py",
   "mimetype": "text/x-python",
   "name": "python",
   "nbconvert_exporter": "python",
   "pygments_lexer": "ipython3",
   "version": "3.10.4"
  }
 },
 "nbformat": 4,
 "nbformat_minor": 5
}
